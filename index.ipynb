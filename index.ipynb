{
 "cells": [
  {
   "cell_type": "markdown",
   "metadata": {},
   "source": [
    "# Contents\n",
    "\n",
    "1. [Introduction](introduction.ipynb) - basic python and notebooks\n",
    "1. [Biking in Zurich](bikes-per-week.ipynb) - counting bikers\n",
    "1. [Zurich weather](weather-trends.ipynb) - fetching weather data\n",
    "1. [Zurich weather, part two](zurich-weather-exploration.ipynb) - temperature trends\n",
    "\n",
    "If you are familiar with python feel free to skip around the various notebooks. If not try and follow them in order as they each assume you looked at the previous ones."
   ]
  }
 ],
 "metadata": {
  "kernelspec": {
   "display_name": "Python 3",
   "language": "python",
   "name": "python3"
  },
  "language_info": {
   "codemirror_mode": {
    "name": "ipython",
    "version": 3
   },
   "file_extension": ".py",
   "mimetype": "text/x-python",
   "name": "python",
   "nbconvert_exporter": "python",
   "pygments_lexer": "ipython3",
   "version": "3.6.2"
  }
 },
 "nbformat": 4,
 "nbformat_minor": 2
}
