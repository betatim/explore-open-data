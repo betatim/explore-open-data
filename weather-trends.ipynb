{
 "cells": [
  {
   "cell_type": "markdown",
   "metadata": {},
   "source": [
    "# The weather in Zurich\n",
    "\n",
    "---\n",
    "\n",
    "[Table of contents](index.ipynb)\n",
    "\n",
    "---\n",
    "\n",
    "There are several weather stations placed around the city of Zurich. One of them is operated by the \"Wasserschutzpolizei\". It has been collecting detailed weather data for several years and is placed close to Mythenquai.\n",
    "\n",
    "We can get temperature, humidity, rain fall, solar radiation, and more for each 10minute period of the last few years. We can even get a reading of the water level of the lake!\n",
    "\n",
    "In this notebook we will look at how the temperature and humidity vary over the year. We will also count the number of rainy days in 2016.\n",
    "\n",
    "The year 2017 is not over yet, so we will use data from 2016 instead.\n",
    "\n",
    "To get started we import a few libraries that we will need later:"
   ]
  },
  {
   "cell_type": "code",
   "execution_count": 1,
   "metadata": {
    "collapsed": true
   },
   "outputs": [],
   "source": [
    "%matplotlib inline\n",
    "\n",
    "import urllib\n",
    "\n",
    "import pandas as pd"
   ]
  },
  {
   "cell_type": "markdown",
   "metadata": {},
   "source": [
    "Unfortunately the data is not stored in a tidy CSV file. Instead we have to construct a fairly complicated URL, then \"open\" it, download the web page, and then convert it into a `pandas` data frame. This sounds more complicated then it really is.\n",
    "\n",
    "You can visit the webpage yourself: https://www.tecson-data.ch/zurich/mythenquai/. You will have to select what data (temperature, humidity, etc) you would like to see and for which days.\n",
    "\n",
    "If you dig into what your webbrowser does when you click all the buttons you will find that it constructs a URL very similar to the one shown below. Don't worry if it doesn't all make sense.\n",
    "\n",
    "For each of the measurements we want to download we list it (in German) as an additional `felder[]=` part in the URL. The last bit saves everything into a local file. This way we do not have to download it again and again."
   ]
  },
  {
   "cell_type": "code",
   "execution_count": 2,
   "metadata": {
    "collapsed": true
   },
   "outputs": [],
   "source": [
    "data = ('messw_beg=01.01.2016&messw_end=31.12.2016&'\n",
    "        'felder[]=Temp2m&felder[]=TempWasser&felder[]=Windchill&'\n",
    "        'felder[]=LuftdruckQFE&felder[]=Regen&felder[]=Taupunkt&'\n",
    "        'felder[]=Strahlung&felder[]=Feuchte&felder[]=Pegel&'\n",
    "        'auswahl=2&combilog=mythenquai&suchen=Werte anzeigen')\n",
    "data = data.encode('ascii')\n",
    "\n",
    "req = urllib.request.Request(\n",
    "    'https://www.tecson-data.ch/zurich/mythenquai/uebersicht/messwerte.php',\n",
    "    method='POST',\n",
    "    data=data,\n",
    "    headers={\"Content-Type\": \"application/x-www-form-urlencoded\",\n",
    "             'User-Agent': 'http://github.com/wildtreetech/explore-open-data'\n",
    "            },\n",
    "    )\n",
    "\n",
    "with urllib.request.urlopen(req) as web:\n",
    "    with open('weather-2016.html', 'w') as local:\n",
    "        local.write(web.read().decode('iso-8859-1'))"
   ]
  },
  {
   "cell_type": "markdown",
   "metadata": {},
   "source": [
    "You can look at the contents of the [`weather-2016.html` file](weather-2016.html), it contains all sorts of instructions specifying the look of the webpage, and all of our data. At first sight extracting our data looks like a big task. Luckily this is such a common task that the `pandas` library has some handy functions that do most of the work for us:"
   ]
  },
  {
   "cell_type": "code",
   "execution_count": 3,
   "metadata": {
    "collapsed": true
   },
   "outputs": [],
   "source": [
    "df = pd.read_html('weather-2016.html',\n",
    "                  # a little hint to find the data in the file\n",
    "                  attrs={'border': '1'},\n",
    "                  # skip the first row of the data, it is junk\n",
    "                  skiprows=1,\n",
    "                  # convert all dates we find into datetime objects\n",
    "                  parse_dates=True,\n",
    "                  # and use the first column as the index, this corresponds to the date\n",
    "                  index_col=0)\n",
    "df = df[0]"
   ]
  },
  {
   "cell_type": "markdown",
   "metadata": {},
   "source": [
    "Now that we have loaded the data, let's take a look at it:"
   ]
  },
  {
   "cell_type": "code",
   "execution_count": 4,
   "metadata": {},
   "outputs": [
    {
     "data": {
      "text/html": [
       "<div>\n",
       "<style>\n",
       "    .dataframe thead tr:only-child th {\n",
       "        text-align: right;\n",
       "    }\n",
       "\n",
       "    .dataframe thead th {\n",
       "        text-align: left;\n",
       "    }\n",
       "\n",
       "    .dataframe tbody tr th {\n",
       "        vertical-align: top;\n",
       "    }\n",
       "</style>\n",
       "<table border=\"1\" class=\"dataframe\">\n",
       "  <thead>\n",
       "    <tr style=\"text-align: right;\">\n",
       "      <th></th>\n",
       "      <th>1</th>\n",
       "      <th>2</th>\n",
       "      <th>3</th>\n",
       "      <th>4</th>\n",
       "      <th>5</th>\n",
       "      <th>6</th>\n",
       "      <th>7</th>\n",
       "      <th>8</th>\n",
       "      <th>9</th>\n",
       "    </tr>\n",
       "    <tr>\n",
       "      <th>0</th>\n",
       "      <th></th>\n",
       "      <th></th>\n",
       "      <th></th>\n",
       "      <th></th>\n",
       "      <th></th>\n",
       "      <th></th>\n",
       "      <th></th>\n",
       "      <th></th>\n",
       "      <th></th>\n",
       "    </tr>\n",
       "  </thead>\n",
       "  <tbody>\n",
       "    <tr>\n",
       "      <th>2016-01-01 00:00:00</th>\n",
       "      <td>6.3</td>\n",
       "      <td>7.2</td>\n",
       "      <td>6.3</td>\n",
       "      <td>977.0</td>\n",
       "      <td>0.0</td>\n",
       "      <td>6.0</td>\n",
       "      <td>0</td>\n",
       "      <td>98</td>\n",
       "      <td>405.79</td>\n",
       "    </tr>\n",
       "    <tr>\n",
       "      <th>2016-01-01 00:10:00</th>\n",
       "      <td>6.3</td>\n",
       "      <td>7.2</td>\n",
       "      <td>6.3</td>\n",
       "      <td>977.0</td>\n",
       "      <td>0.0</td>\n",
       "      <td>6.0</td>\n",
       "      <td>0</td>\n",
       "      <td>98</td>\n",
       "      <td>405.79</td>\n",
       "    </tr>\n",
       "    <tr>\n",
       "      <th>2016-01-01 00:20:00</th>\n",
       "      <td>6.3</td>\n",
       "      <td>7.2</td>\n",
       "      <td>6.3</td>\n",
       "      <td>977.0</td>\n",
       "      <td>0.0</td>\n",
       "      <td>6.0</td>\n",
       "      <td>0</td>\n",
       "      <td>98</td>\n",
       "      <td>405.79</td>\n",
       "    </tr>\n",
       "    <tr>\n",
       "      <th>2016-01-01 00:30:00</th>\n",
       "      <td>6.4</td>\n",
       "      <td>7.2</td>\n",
       "      <td>6.4</td>\n",
       "      <td>977.1</td>\n",
       "      <td>0.0</td>\n",
       "      <td>6.1</td>\n",
       "      <td>0</td>\n",
       "      <td>98</td>\n",
       "      <td>405.78</td>\n",
       "    </tr>\n",
       "    <tr>\n",
       "      <th>2016-01-01 00:40:00</th>\n",
       "      <td>6.4</td>\n",
       "      <td>7.2</td>\n",
       "      <td>6.4</td>\n",
       "      <td>977.1</td>\n",
       "      <td>0.0</td>\n",
       "      <td>6.2</td>\n",
       "      <td>0</td>\n",
       "      <td>98</td>\n",
       "      <td>405.79</td>\n",
       "    </tr>\n",
       "  </tbody>\n",
       "</table>\n",
       "</div>"
      ],
      "text/plain": [
       "                       1    2    3      4    5    6  7   8       9\n",
       "0                                                                 \n",
       "2016-01-01 00:00:00  6.3  7.2  6.3  977.0  0.0  6.0  0  98  405.79\n",
       "2016-01-01 00:10:00  6.3  7.2  6.3  977.0  0.0  6.0  0  98  405.79\n",
       "2016-01-01 00:20:00  6.3  7.2  6.3  977.0  0.0  6.0  0  98  405.79\n",
       "2016-01-01 00:30:00  6.4  7.2  6.4  977.1  0.0  6.1  0  98  405.78\n",
       "2016-01-01 00:40:00  6.4  7.2  6.4  977.1  0.0  6.2  0  98  405.79"
      ]
     },
     "execution_count": 4,
     "metadata": {},
     "output_type": "execute_result"
    }
   ],
   "source": [
    "df.head()"
   ]
  },
  {
   "cell_type": "markdown",
   "metadata": {},
   "source": [
    "You can see lots of values from January, 1st 2016 ... but without names for the columns we can only guess what they really mean. Let's fix that by setting the column names explicitly. How do we know this is the correct way to label them? I compared the HTML we downloaded with the values in our table above and wrote out the names by hand."
   ]
  },
  {
   "cell_type": "code",
   "execution_count": 5,
   "metadata": {},
   "outputs": [
    {
     "data": {
      "text/html": [
       "<div>\n",
       "<style>\n",
       "    .dataframe thead tr:only-child th {\n",
       "        text-align: right;\n",
       "    }\n",
       "\n",
       "    .dataframe thead th {\n",
       "        text-align: left;\n",
       "    }\n",
       "\n",
       "    .dataframe tbody tr th {\n",
       "        vertical-align: top;\n",
       "    }\n",
       "</style>\n",
       "<table border=\"1\" class=\"dataframe\">\n",
       "  <thead>\n",
       "    <tr style=\"text-align: right;\">\n",
       "      <th></th>\n",
       "      <th>Temp</th>\n",
       "      <th>WaterTemp</th>\n",
       "      <th>Windchill</th>\n",
       "      <th>Pressure</th>\n",
       "      <th>Rain</th>\n",
       "      <th>Dewpoint</th>\n",
       "      <th>Radiation</th>\n",
       "      <th>Humidity</th>\n",
       "      <th>Waterlevel</th>\n",
       "    </tr>\n",
       "    <tr>\n",
       "      <th>0</th>\n",
       "      <th></th>\n",
       "      <th></th>\n",
       "      <th></th>\n",
       "      <th></th>\n",
       "      <th></th>\n",
       "      <th></th>\n",
       "      <th></th>\n",
       "      <th></th>\n",
       "      <th></th>\n",
       "    </tr>\n",
       "  </thead>\n",
       "  <tbody>\n",
       "    <tr>\n",
       "      <th>2016-01-01 00:00:00</th>\n",
       "      <td>6.3</td>\n",
       "      <td>7.2</td>\n",
       "      <td>6.3</td>\n",
       "      <td>977.0</td>\n",
       "      <td>0.0</td>\n",
       "      <td>6.0</td>\n",
       "      <td>0</td>\n",
       "      <td>98</td>\n",
       "      <td>405.79</td>\n",
       "    </tr>\n",
       "    <tr>\n",
       "      <th>2016-01-01 00:10:00</th>\n",
       "      <td>6.3</td>\n",
       "      <td>7.2</td>\n",
       "      <td>6.3</td>\n",
       "      <td>977.0</td>\n",
       "      <td>0.0</td>\n",
       "      <td>6.0</td>\n",
       "      <td>0</td>\n",
       "      <td>98</td>\n",
       "      <td>405.79</td>\n",
       "    </tr>\n",
       "    <tr>\n",
       "      <th>2016-01-01 00:20:00</th>\n",
       "      <td>6.3</td>\n",
       "      <td>7.2</td>\n",
       "      <td>6.3</td>\n",
       "      <td>977.0</td>\n",
       "      <td>0.0</td>\n",
       "      <td>6.0</td>\n",
       "      <td>0</td>\n",
       "      <td>98</td>\n",
       "      <td>405.79</td>\n",
       "    </tr>\n",
       "    <tr>\n",
       "      <th>2016-01-01 00:30:00</th>\n",
       "      <td>6.4</td>\n",
       "      <td>7.2</td>\n",
       "      <td>6.4</td>\n",
       "      <td>977.1</td>\n",
       "      <td>0.0</td>\n",
       "      <td>6.1</td>\n",
       "      <td>0</td>\n",
       "      <td>98</td>\n",
       "      <td>405.78</td>\n",
       "    </tr>\n",
       "    <tr>\n",
       "      <th>2016-01-01 00:40:00</th>\n",
       "      <td>6.4</td>\n",
       "      <td>7.2</td>\n",
       "      <td>6.4</td>\n",
       "      <td>977.1</td>\n",
       "      <td>0.0</td>\n",
       "      <td>6.2</td>\n",
       "      <td>0</td>\n",
       "      <td>98</td>\n",
       "      <td>405.79</td>\n",
       "    </tr>\n",
       "  </tbody>\n",
       "</table>\n",
       "</div>"
      ],
      "text/plain": [
       "                     Temp  WaterTemp  Windchill  Pressure  Rain  Dewpoint  \\\n",
       "0                                                                           \n",
       "2016-01-01 00:00:00   6.3        7.2        6.3     977.0   0.0       6.0   \n",
       "2016-01-01 00:10:00   6.3        7.2        6.3     977.0   0.0       6.0   \n",
       "2016-01-01 00:20:00   6.3        7.2        6.3     977.0   0.0       6.0   \n",
       "2016-01-01 00:30:00   6.4        7.2        6.4     977.1   0.0       6.1   \n",
       "2016-01-01 00:40:00   6.4        7.2        6.4     977.1   0.0       6.2   \n",
       "\n",
       "                     Radiation  Humidity  Waterlevel  \n",
       "0                                                     \n",
       "2016-01-01 00:00:00          0        98      405.79  \n",
       "2016-01-01 00:10:00          0        98      405.79  \n",
       "2016-01-01 00:20:00          0        98      405.79  \n",
       "2016-01-01 00:30:00          0        98      405.78  \n",
       "2016-01-01 00:40:00          0        98      405.79  "
      ]
     },
     "execution_count": 5,
     "metadata": {},
     "output_type": "execute_result"
    }
   ],
   "source": [
    "df.columns = ['Temp', 'WaterTemp', 'Windchill', 'Pressure', 'Rain',\n",
    "              'Dewpoint', 'Radiation', 'Humidity', 'Waterlevel']\n",
    "df.head()"
   ]
  },
  {
   "cell_type": "markdown",
   "metadata": {},
   "source": [
    "This looks much better. About 6degree Celcius in the middle of the night in January makes sense, as does the fact that the solar radiation is zero. It is dark after all.\n",
    "\n",
    "Let's get started with plotting the average temperature of each week:"
   ]
  },
  {
   "cell_type": "code",
   "execution_count": 6,
   "metadata": {},
   "outputs": [
    {
     "data": {
      "image/png": "[encoded data removed]",
      "text/plain": [
       "<matplotlib.figure.Figure at 0x104d49438>"
      ]
     },
     "metadata": {},
     "output_type": "display_data"
    }
   ],
   "source": [
    "temperature = df['Temp']\n",
    "temperature.resample('W').mean().plot();"
   ]
  },
  {
   "cell_type": "markdown",
   "metadata": {},
   "source": [
    "This looks weird. An average temperature of 15C in January is unlikely, let's zoom in on the first few days of the year. Maybe we can see what is going on."
   ]
  },
  {
   "cell_type": "code",
   "execution_count": 7,
   "metadata": {},
   "outputs": [
    {
     "data": {
      "image/png": "[encoded data removed]",
      "text/plain": [
       "<matplotlib.figure.Figure at 0x10e0c9da0>"
      ]
     },
     "metadata": {},
     "output_type": "display_data"
    }
   ],
   "source": [
    "temperature[:\"20160115\"].plot();"
   ]
  },
  {
   "cell_type": "markdown",
   "metadata": {},
   "source": [
    "Something is not right ... the temperature changes abruptly from around 5C to over 10C. It turns out that the way the dates are formatted in our data means pandas has to guess whether the date is in European (day first) or American (month first) formatting."
   ]
  },
  {
   "cell_type": "code",
   "execution_count": 8,
   "metadata": {},
   "outputs": [
    {
     "data": {
      "text/plain": [
       "Timestamp('2016-01-08 00:00:00')"
      ]
     },
     "execution_count": 8,
     "metadata": {},
     "output_type": "execute_result"
    }
   ],
   "source": [
    "pd.to_datetime('01.08.2016')"
   ]
  },
  {
   "cell_type": "code",
   "execution_count": 9,
   "metadata": {},
   "outputs": [
    {
     "data": {
      "text/plain": [
       "Timestamp('2016-08-01 00:00:00')"
      ]
     },
     "execution_count": 9,
     "metadata": {},
     "output_type": "execute_result"
    }
   ],
   "source": [
    "pd.to_datetime('01.08.2016', dayfirst=True)"
   ]
  },
  {
   "cell_type": "markdown",
   "metadata": {},
   "source": [
    "So, instead of letting pandas guess the format we need to specify it explicitly."
   ]
  },
  {
   "cell_type": "markdown",
   "metadata": {},
   "source": [
    "## Attempt two\n",
    "\n",
    "next we load the data without trying to parse the dates automatically. Instead we specify explicitly the format (day first) when we convert the first column to a datetime. The first bit of code is as above, but we remove our request to parse the dates:"
   ]
  },
  {
   "cell_type": "code",
   "execution_count": 10,
   "metadata": {
    "collapsed": true
   },
   "outputs": [],
   "source": [
    "df = pd.read_html('weather-2016.html',\n",
    "                  attrs={'border': '1'},\n",
    "                  skiprows=1)\n",
    "df = df[0]"
   ]
  },
  {
   "cell_type": "markdown",
   "metadata": {},
   "source": [
    "Next we explicitly convert the first column of our dataset into a date, specifying that the day comes first:"
   ]
  },
  {
   "cell_type": "code",
   "execution_count": 11,
   "metadata": {
    "collapsed": true
   },
   "outputs": [],
   "source": [
    "df[0] = pd.to_datetime(df[0], dayfirst=True)"
   ]
  },
  {
   "cell_type": "markdown",
   "metadata": {},
   "source": [
    "And as before we set the names of the columns and then specify that we want to use the date column as the index."
   ]
  },
  {
   "cell_type": "code",
   "execution_count": 12,
   "metadata": {
    "collapsed": true
   },
   "outputs": [],
   "source": [
    "df.columns = ['Date', 'Temp', 'WaterTemp', 'Windchill', 'Pressure', 'Rain',\n",
    "              'Dewpoint', 'Radiation', 'Humidity', 'Waterlevel']\n",
    "df = df.set_index('Date')"
   ]
  },
  {
   "cell_type": "code",
   "execution_count": 13,
   "metadata": {},
   "outputs": [
    {
     "data": {
      "text/html": [
       "<div>\n",
       "<style>\n",
       "    .dataframe thead tr:only-child th {\n",
       "        text-align: right;\n",
       "    }\n",
       "\n",
       "    .dataframe thead th {\n",
       "        text-align: left;\n",
       "    }\n",
       "\n",
       "    .dataframe tbody tr th {\n",
       "        vertical-align: top;\n",
       "    }\n",
       "</style>\n",
       "<table border=\"1\" class=\"dataframe\">\n",
       "  <thead>\n",
       "    <tr style=\"text-align: right;\">\n",
       "      <th></th>\n",
       "      <th>Temp</th>\n",
       "      <th>WaterTemp</th>\n",
       "      <th>Windchill</th>\n",
       "      <th>Pressure</th>\n",
       "      <th>Rain</th>\n",
       "      <th>Dewpoint</th>\n",
       "      <th>Radiation</th>\n",
       "      <th>Humidity</th>\n",
       "      <th>Waterlevel</th>\n",
       "    </tr>\n",
       "    <tr>\n",
       "      <th>Date</th>\n",
       "      <th></th>\n",
       "      <th></th>\n",
       "      <th></th>\n",
       "      <th></th>\n",
       "      <th></th>\n",
       "      <th></th>\n",
       "      <th></th>\n",
       "      <th></th>\n",
       "      <th></th>\n",
       "    </tr>\n",
       "  </thead>\n",
       "  <tbody>\n",
       "    <tr>\n",
       "      <th>2016-01-01 00:00:00</th>\n",
       "      <td>6.3</td>\n",
       "      <td>7.2</td>\n",
       "      <td>6.3</td>\n",
       "      <td>977.0</td>\n",
       "      <td>0.0</td>\n",
       "      <td>6.0</td>\n",
       "      <td>0</td>\n",
       "      <td>98</td>\n",
       "      <td>405.79</td>\n",
       "    </tr>\n",
       "    <tr>\n",
       "      <th>2016-01-01 00:10:00</th>\n",
       "      <td>6.3</td>\n",
       "      <td>7.2</td>\n",
       "      <td>6.3</td>\n",
       "      <td>977.0</td>\n",
       "      <td>0.0</td>\n",
       "      <td>6.0</td>\n",
       "      <td>0</td>\n",
       "      <td>98</td>\n",
       "      <td>405.79</td>\n",
       "    </tr>\n",
       "    <tr>\n",
       "      <th>2016-01-01 00:20:00</th>\n",
       "      <td>6.3</td>\n",
       "      <td>7.2</td>\n",
       "      <td>6.3</td>\n",
       "      <td>977.0</td>\n",
       "      <td>0.0</td>\n",
       "      <td>6.0</td>\n",
       "      <td>0</td>\n",
       "      <td>98</td>\n",
       "      <td>405.79</td>\n",
       "    </tr>\n",
       "    <tr>\n",
       "      <th>2016-01-01 00:30:00</th>\n",
       "      <td>6.4</td>\n",
       "      <td>7.2</td>\n",
       "      <td>6.4</td>\n",
       "      <td>977.1</td>\n",
       "      <td>0.0</td>\n",
       "      <td>6.1</td>\n",
       "      <td>0</td>\n",
       "      <td>98</td>\n",
       "      <td>405.78</td>\n",
       "    </tr>\n",
       "    <tr>\n",
       "      <th>2016-01-01 00:40:00</th>\n",
       "      <td>6.4</td>\n",
       "      <td>7.2</td>\n",
       "      <td>6.4</td>\n",
       "      <td>977.1</td>\n",
       "      <td>0.0</td>\n",
       "      <td>6.2</td>\n",
       "      <td>0</td>\n",
       "      <td>98</td>\n",
       "      <td>405.79</td>\n",
       "    </tr>\n",
       "  </tbody>\n",
       "</table>\n",
       "</div>"
      ],
      "text/plain": [
       "                     Temp  WaterTemp  Windchill  Pressure  Rain  Dewpoint  \\\n",
       "Date                                                                        \n",
       "2016-01-01 00:00:00   6.3        7.2        6.3     977.0   0.0       6.0   \n",
       "2016-01-01 00:10:00   6.3        7.2        6.3     977.0   0.0       6.0   \n",
       "2016-01-01 00:20:00   6.3        7.2        6.3     977.0   0.0       6.0   \n",
       "2016-01-01 00:30:00   6.4        7.2        6.4     977.1   0.0       6.1   \n",
       "2016-01-01 00:40:00   6.4        7.2        6.4     977.1   0.0       6.2   \n",
       "\n",
       "                     Radiation  Humidity  Waterlevel  \n",
       "Date                                                  \n",
       "2016-01-01 00:00:00          0        98      405.79  \n",
       "2016-01-01 00:10:00          0        98      405.79  \n",
       "2016-01-01 00:20:00          0        98      405.79  \n",
       "2016-01-01 00:30:00          0        98      405.78  \n",
       "2016-01-01 00:40:00          0        98      405.79  "
      ]
     },
     "execution_count": 13,
     "metadata": {},
     "output_type": "execute_result"
    }
   ],
   "source": [
    "df.head(5)"
   ]
  },
  {
   "cell_type": "markdown",
   "metadata": {},
   "source": [
    "This looks good, how about the temperature plot of the first two weeks?"
   ]
  },
  {
   "cell_type": "code",
   "execution_count": 14,
   "metadata": {},
   "outputs": [
    {
     "data": {
      "text/plain": [
       "<matplotlib.axes._subplots.AxesSubplot at 0x11d25b208>"
      ]
     },
     "execution_count": 14,
     "metadata": {},
     "output_type": "execute_result"
    },
    {
     "data": {
      "image/png": "[encoded data removed]",
      "text/plain": [
       "<matplotlib.figure.Figure at 0x10e026d30>"
      ]
     },
     "metadata": {},
     "output_type": "display_data"
    }
   ],
   "source": [
    "temperature = df['Temp']\n",
    "temperature[:\"20160115\"].plot()"
   ]
  },
  {
   "cell_type": "markdown",
   "metadata": {},
   "source": [
    "Looks much more reasonable. To check you can compare it to the values in the HTML table by hand. Now back to showing the average temperature of each week:"
   ]
  },
  {
   "cell_type": "code",
   "execution_count": 15,
   "metadata": {},
   "outputs": [
    {
     "data": {
      "image/png": "[encoded data removed]",
      "text/plain": [
       "<matplotlib.figure.Figure at 0x10e082b38>"
      ]
     },
     "metadata": {},
     "output_type": "display_data"
    }
   ],
   "source": [
    "temperature.resample('W').mean().plot();"
   ]
  },
  {
   "cell_type": "markdown",
   "metadata": {},
   "source": [
    "This looks much more like what we would expect. Cold in winter and increasingly warm towards summer. After which it cools off again.\n",
    "\n",
    "So, after this detour to the world of dealing with loading data and parsing dates we did not yet look at the humidity and rainy days. Because there is quite a bit of code involved in fetching and loading the data there is a helper function in [`utils.py`](/edit/utils.py) called `get_weather_data()` that takes care of everything for us.\n",
    "\n",
    "To find out about rainy days in Zurich, go to the next notebook: [Zurich weather exploration](zurich-weather-exploration.ipynb)."
   ]
  }
 ],
 "metadata": {
  "kernelspec": {
   "display_name": "Python 3",
   "language": "python",
   "name": "python3"
  },
  "language_info": {
   "codemirror_mode": {
    "name": "ipython",
    "version": 3
   },
   "file_extension": ".py",
   "mimetype": "text/x-python",
   "name": "python",
   "nbconvert_exporter": "python",
   "pygments_lexer": "ipython3",
   "version": "3.6.2"
  }
 },
 "nbformat": 4,
 "nbformat_minor": 2
}
