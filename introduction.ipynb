{
 "cells": [
  {
   "cell_type": "markdown",
   "metadata": {},
   "source": [
    "# Quick start to Explore Open Data\n",
    "\n",
    "This set of notebooks is meant to encourage the exploration of data from the\n",
    "world around us. Notebooks should:\n",
    "\n",
    "1. introduce people who are new to data analysis and programming computers\n",
    "to the tools and ideas of data analysis; and\n",
    "1. inspire experienced data practicioners and function as a reference/example\n",
    "gallery analysing public datasets.\n",
    "\n",
    "---\n",
    "#### Table of contents\n",
    "\n",
    "1. [Introduction](introduction.ipynb) - you are here\n",
    "1. [Biking in Zurich](bikes-per-week.ipynb)\n",
    "1. [Zurich weather](weather-trends.ipynb)\n",
    "1. [Zurich weather, part two](zurich-weather-exploration.ipynb)\n",
    "\n",
    "If you are familiar with python feel free to skip around the various notebooks. If not try and follow them in order as they each assume you looked at the previous ones.\n",
    "\n",
    "---\n",
    "\n",
    "This is a jupyter notebook, where you can have text \"cells\" (like this text here) and code \"cells\" i.e. boxes where you can write python code to be executed (like the one below). No need to install anything (if you run this on http://mybinder.org/) or find compilers, it is all done for you in the background.\n",
    "\n",
    "For \"explore open data\", we use python as programming language: it is easy to get started, just type, for example, 1 + 1 in the cell below and click on \"Run\" icon above."
   ]
  },
  {
   "cell_type": "code",
   "execution_count": null,
   "metadata": {
    "collapsed": true
   },
   "outputs": [],
   "source": []
  },
  {
   "cell_type": "markdown",
   "metadata": {},
   "source": [
    "Now try something more advanced, for example sqrt(4)"
   ]
  },
  {
   "cell_type": "code",
   "execution_count": null,
   "metadata": {
    "collapsed": true
   },
   "outputs": [],
   "source": []
  },
  {
   "cell_type": "markdown",
   "metadata": {},
   "source": [
    "That failed: basic python can do some operations but for anything more complex, we need additional software packages or \"modules\".\n",
    "\n",
    "That's what we will import here:"
   ]
  },
  {
   "cell_type": "code",
   "execution_count": null,
   "metadata": {
    "collapsed": true
   },
   "outputs": [],
   "source": [
    "import pandas as pd \n",
    "# pandas is a data analysis package, a bit like Excel\n",
    "\n",
    "import numpy as np\n",
    "# numpy is for scientific computing\n",
    "\n",
    "import matplotlib.pyplot as plt\n",
    "# matplotlib is for plotting"
   ]
  },
  {
   "cell_type": "markdown",
   "metadata": {},
   "source": [
    "Now, you want to try whether sqrt(4) works now? No, it does not... you will have to tell jupyter that you want to take the function from numpy (which for brevity was named np above). So try np.sqrt(4)..."
   ]
  },
  {
   "cell_type": "code",
   "execution_count": null,
   "metadata": {
    "collapsed": true
   },
   "outputs": [],
   "source": []
  },
  {
   "cell_type": "markdown",
   "metadata": {},
   "source": [
    "Note that you can modify this page at any time, it does no harm. You can add cells (Insert) and change their type from Code (default) to text (i.e. \"Markdown\") under Cell -> Cell type."
   ]
  }
 ],
 "metadata": {
  "kernelspec": {
   "display_name": "Python 3",
   "language": "python",
   "name": "python3"
  },
  "language_info": {
   "codemirror_mode": {
    "name": "ipython",
    "version": 3
   },
   "file_extension": ".py",
   "mimetype": "text/x-python",
   "name": "python",
   "nbconvert_exporter": "python",
   "pygments_lexer": "ipython3",
   "version": "3.6.2"
  }
 },
 "nbformat": 4,
 "nbformat_minor": 2
}
